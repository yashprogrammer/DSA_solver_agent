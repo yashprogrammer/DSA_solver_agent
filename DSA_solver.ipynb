{
 "cells": [
  {
   "cell_type": "code",
   "execution_count": 9,
   "id": "1e17f943",
   "metadata": {},
   "outputs": [],
   "source": [
    "from autogen_agentchat.agents import CodeExecutorAgent\n",
    "from autogen_ext.code_executors.docker import DockerCommandLineCodeExecutor\n",
    "from autogen_agentchat.messages import TextMessage\n",
    "from autogen_agentchat.agents import AssistantAgent\n",
    "from autogen_ext.models.openai import OpenAIChatCompletionClient\n",
    "from autogen_agentchat.teams import RoundRobinGroupChat\n",
    "from autogen_agentchat.conditions import TextMentionTermination\n",
    "from autogen_agentchat.base import TaskResult\n",
    "from autogen_agentchat.ui import Console\n",
    "import asyncio\n",
    "import os"
   ]
  },
  {
   "cell_type": "code",
   "execution_count": 2,
   "id": "65b30574",
   "metadata": {},
   "outputs": [],
   "source": [
    "api_key = os.getenv(\"OPENAI_API_KEY\")\n",
    "if not api_key:\n",
    "    raise ValueError(\"Please set the OPENAI_API_KEY environment variable.\")"
   ]
  },
  {
   "cell_type": "code",
   "execution_count": 4,
   "id": "614b98ea",
   "metadata": {},
   "outputs": [],
   "source": [
    "openai_client = OpenAIChatCompletionClient(model=\"gpt-4o-mini\", api_key=api_key)\n"
   ]
  },
  {
   "cell_type": "code",
   "execution_count": 5,
   "id": "00670a2a",
   "metadata": {},
   "outputs": [],
   "source": [
    "problem_solver_expert = AssistantAgent(\n",
    "    name='ProblemSolverExpert',\n",
    "    description=\"An expert agent that solves problems using code execution.\",\n",
    "    model_client=openai_client,\n",
    "    system_message='You are a problem solver agent that is an expert in solving DSA problems,' \\\n",
    "    'You will be working with code executor agent to execute code' \\\n",
    "    'You will be give a task and you should first provide a way to solve the task/problem' \\\n",
    "    'Then you should give the code in Python Block format so that it can be ran by code executor agent' \\\n",
    "    'You can provide Shell scipt as well if code fails due to missing libraries, make sure to use pip install command' \\\n",
    "    'You should only give a single code block and pass it to executor agent'\\\n",
    "    ' You should give the corrected code in Python Block format if error is there' \\\n",
    "    'Once the code has been successfully executed and you have the results. You should explain the results in detail' \\\n",
    "    'Make sure each code has 3 test cases and the output of each test case is printed' \\\n",
    "    'if you have to save the file, save it with output.png or output.txt or output.gif' \\\n",
    "    'Once everything is done, you should explain the results and say \"STOP\" to stop the conversation'\n",
    ")"
   ]
  },
  {
   "cell_type": "code",
   "execution_count": 6,
   "id": "225dc9e8",
   "metadata": {},
   "outputs": [],
   "source": [
    "\n",
    "termination_condition = TextMentionTermination('STOP')\n"
   ]
  },
  {
   "cell_type": "code",
   "execution_count": 7,
   "id": "c48a8ad5",
   "metadata": {},
   "outputs": [],
   "source": [
    "docker=DockerCommandLineCodeExecutor(\n",
    "    work_dir='tmp',\n",
    "    timeout=120\n",
    ")\n",
    "\n",
    "code_executor_agent = CodeExecutorAgent(\n",
    "    name='CodeExecutorAgent',\n",
    "    description=\"An agent that executes code in a Docker container.\",\n",
    "    code_executor=docker,\n",
    ")"
   ]
  },
  {
   "cell_type": "code",
   "execution_count": 8,
   "id": "8623758f",
   "metadata": {},
   "outputs": [],
   "source": [
    "team = RoundRobinGroupChat(\n",
    "    participants=[problem_solver_expert, code_executor_agent],\n",
    "    termination_condition=termination_condition,\n",
    "    max_turns=15)"
   ]
  },
  {
   "cell_type": "code",
   "execution_count": null,
   "id": "4ca5145b",
   "metadata": {},
   "outputs": [],
   "source": [
    "try:\n",
    "    await docker.start()\n",
    "    task = 'Write a Python Code to check and solve remove duplicates from sorted arrays.'\n",
    "    stream = team.run_stream(task=task)\n",
    "    result = await Console(stream)\n",
    "    print(result)\n",
    "    \n",
    "except Exception as e:\n",
    "    print(f\"An error occurred: {e}\")\n",
    "    \n",
    "finally:\n",
    "    await docker.stop()"
   ]
  }
 ],
 "metadata": {
  "kernelspec": {
   "display_name": "Python 3",
   "language": "python",
   "name": "python3"
  },
  "language_info": {
   "codemirror_mode": {
    "name": "ipython",
    "version": 3
   },
   "file_extension": ".py",
   "mimetype": "text/x-python",
   "name": "python",
   "nbconvert_exporter": "python",
   "pygments_lexer": "ipython3",
   "version": "3.11.13"
  }
 },
 "nbformat": 4,
 "nbformat_minor": 5
}
